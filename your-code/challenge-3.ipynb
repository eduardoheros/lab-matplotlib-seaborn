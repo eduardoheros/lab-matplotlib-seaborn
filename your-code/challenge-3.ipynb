{
  "nbformat": 4,
  "nbformat_minor": 0,
  "metadata": {
    "kernelspec": {
      "display_name": "Python 3",
      "language": "python",
      "name": "python3"
    },
    "language_info": {
      "codemirror_mode": {
        "name": "ipython",
        "version": 3
      },
      "file_extension": ".py",
      "mimetype": "text/x-python",
      "name": "python",
      "nbconvert_exporter": "python",
      "pygments_lexer": "ipython3",
      "version": "3.7.0"
    },
    "colab": {
      "name": "challenge-3.ipynb",
      "provenance": []
    }
  },
  "cells": [
    {
      "cell_type": "markdown",
      "metadata": {
        "id": "hZP8c76wMMUP",
        "colab_type": "text"
      },
      "source": [
        "# Challenge 3"
      ]
    },
    {
      "cell_type": "code",
      "metadata": {
        "id": "lJMRTzlRMMUR",
        "colab_type": "code",
        "colab": {
          "base_uri": "https://localhost:8080/",
          "height": 51
        },
        "outputId": "82aa1230-d2b3-49fe-8731-c4fa2a6a518c"
      },
      "source": [
        "# import libraries here\n",
        "import pandas as pd\n",
        "\n",
        "import numpy as np\n",
        "import matplotlib.pyplot as plt\n",
        "import seaborn as sns\n",
        "%matplotlib inline\n"
      ],
      "execution_count": 1,
      "outputs": [
        {
          "output_type": "stream",
          "text": [
            "/usr/local/lib/python3.6/dist-packages/statsmodels/tools/_testing.py:19: FutureWarning: pandas.util.testing is deprecated. Use the functions in the public API at pandas.testing instead.\n",
            "  import pandas.util.testing as tm\n"
          ],
          "name": "stderr"
        }
      ]
    },
    {
      "cell_type": "markdown",
      "metadata": {
        "id": "oS282Py6MMUY",
        "colab_type": "text"
      },
      "source": [
        "#### Import the titanic file. Name your dataset `titanic`."
      ]
    },
    {
      "cell_type": "code",
      "metadata": {
        "id": "iOaIwK12MMUZ",
        "colab_type": "code",
        "colab": {
          "base_uri": "https://localhost:8080/",
          "height": 204
        },
        "outputId": "9fd99c57-61cd-49c9-fcbd-4ccd47425073"
      },
      "source": [
        "titanic = pd.read_csv('https://raw.githubusercontent.com/eduardoheros/lab-matplotlib-seaborn/master/your-code/titanic.csv',low_memory=False)\n",
        "titanic.head()"
      ],
      "execution_count": 2,
      "outputs": [
        {
          "output_type": "execute_result",
          "data": {
            "text/html": [
              "<div>\n",
              "<style scoped>\n",
              "    .dataframe tbody tr th:only-of-type {\n",
              "        vertical-align: middle;\n",
              "    }\n",
              "\n",
              "    .dataframe tbody tr th {\n",
              "        vertical-align: top;\n",
              "    }\n",
              "\n",
              "    .dataframe thead th {\n",
              "        text-align: right;\n",
              "    }\n",
              "</style>\n",
              "<table border=\"1\" class=\"dataframe\">\n",
              "  <thead>\n",
              "    <tr style=\"text-align: right;\">\n",
              "      <th></th>\n",
              "      <th>PassengerId</th>\n",
              "      <th>Survived</th>\n",
              "      <th>Pclass</th>\n",
              "      <th>Name</th>\n",
              "      <th>Gender</th>\n",
              "      <th>Age</th>\n",
              "      <th>SibSp</th>\n",
              "      <th>Parch</th>\n",
              "      <th>Ticket</th>\n",
              "      <th>Fare</th>\n",
              "      <th>Cabin</th>\n",
              "      <th>Embarked</th>\n",
              "    </tr>\n",
              "  </thead>\n",
              "  <tbody>\n",
              "    <tr>\n",
              "      <th>0</th>\n",
              "      <td>1</td>\n",
              "      <td>0.0</td>\n",
              "      <td>3</td>\n",
              "      <td>Braund, Mr. Owen Harris</td>\n",
              "      <td>male</td>\n",
              "      <td>22.0</td>\n",
              "      <td>1</td>\n",
              "      <td>0</td>\n",
              "      <td>A/5 21171</td>\n",
              "      <td>7.2500</td>\n",
              "      <td>U0</td>\n",
              "      <td>S</td>\n",
              "    </tr>\n",
              "    <tr>\n",
              "      <th>1</th>\n",
              "      <td>2</td>\n",
              "      <td>1.0</td>\n",
              "      <td>1</td>\n",
              "      <td>Cumings, Mrs. John Bradley (Florence Briggs Th...</td>\n",
              "      <td>female</td>\n",
              "      <td>38.0</td>\n",
              "      <td>1</td>\n",
              "      <td>0</td>\n",
              "      <td>PC 17599</td>\n",
              "      <td>71.2833</td>\n",
              "      <td>C85</td>\n",
              "      <td>C</td>\n",
              "    </tr>\n",
              "    <tr>\n",
              "      <th>2</th>\n",
              "      <td>3</td>\n",
              "      <td>1.0</td>\n",
              "      <td>3</td>\n",
              "      <td>Heikkinen, Miss. Laina</td>\n",
              "      <td>female</td>\n",
              "      <td>26.0</td>\n",
              "      <td>0</td>\n",
              "      <td>0</td>\n",
              "      <td>STON/O2. 3101282</td>\n",
              "      <td>7.9250</td>\n",
              "      <td>U0</td>\n",
              "      <td>S</td>\n",
              "    </tr>\n",
              "    <tr>\n",
              "      <th>3</th>\n",
              "      <td>4</td>\n",
              "      <td>1.0</td>\n",
              "      <td>1</td>\n",
              "      <td>Futrelle, Mrs. Jacques Heath (Lily May Peel)</td>\n",
              "      <td>female</td>\n",
              "      <td>35.0</td>\n",
              "      <td>1</td>\n",
              "      <td>0</td>\n",
              "      <td>113803</td>\n",
              "      <td>53.1000</td>\n",
              "      <td>C123</td>\n",
              "      <td>S</td>\n",
              "    </tr>\n",
              "    <tr>\n",
              "      <th>4</th>\n",
              "      <td>5</td>\n",
              "      <td>0.0</td>\n",
              "      <td>3</td>\n",
              "      <td>Allen, Mr. William Henry</td>\n",
              "      <td>male</td>\n",
              "      <td>35.0</td>\n",
              "      <td>0</td>\n",
              "      <td>0</td>\n",
              "      <td>373450</td>\n",
              "      <td>8.0500</td>\n",
              "      <td>U0</td>\n",
              "      <td>S</td>\n",
              "    </tr>\n",
              "  </tbody>\n",
              "</table>\n",
              "</div>"
            ],
            "text/plain": [
              "   PassengerId  Survived  Pclass  ...     Fare Cabin  Embarked\n",
              "0            1       0.0       3  ...   7.2500    U0         S\n",
              "1            2       1.0       1  ...  71.2833   C85         C\n",
              "2            3       1.0       3  ...   7.9250    U0         S\n",
              "3            4       1.0       1  ...  53.1000  C123         S\n",
              "4            5       0.0       3  ...   8.0500    U0         S\n",
              "\n",
              "[5 rows x 12 columns]"
            ]
          },
          "metadata": {
            "tags": []
          },
          "execution_count": 2
        }
      ]
    },
    {
      "cell_type": "markdown",
      "metadata": {
        "id": "-M9c8i95MMUf",
        "colab_type": "text"
      },
      "source": [
        "#### Explore the titanic dataset using Pandas dtypes"
      ]
    },
    {
      "cell_type": "code",
      "metadata": {
        "id": "AOur3I8aMMUf",
        "colab_type": "code",
        "colab": {
          "base_uri": "https://localhost:8080/",
          "height": 238
        },
        "outputId": "9fc95c0d-0600-425b-ff90-3c9152359d01"
      },
      "source": [
        "titanic.dtypes"
      ],
      "execution_count": 3,
      "outputs": [
        {
          "output_type": "execute_result",
          "data": {
            "text/plain": [
              "PassengerId      int64\n",
              "Survived       float64\n",
              "Pclass           int64\n",
              "Name            object\n",
              "Gender          object\n",
              "Age            float64\n",
              "SibSp            int64\n",
              "Parch            int64\n",
              "Ticket          object\n",
              "Fare           float64\n",
              "Cabin           object\n",
              "Embarked        object\n",
              "dtype: object"
            ]
          },
          "metadata": {
            "tags": []
          },
          "execution_count": 3
        }
      ]
    },
    {
      "cell_type": "markdown",
      "metadata": {
        "id": "3gCLkJLcMMUm",
        "colab_type": "text"
      },
      "source": [
        "#### What are your numerical variables? What are your categorical variables?\n",
        "\n",
        "*Hint: Use Pandas `select_dtypes`*"
      ]
    },
    {
      "cell_type": "code",
      "metadata": {
        "id": "pnMjD0YSMMUm",
        "colab_type": "code",
        "colab": {}
      },
      "source": [
        "# your code here- numerical variable\n"
      ],
      "execution_count": 0,
      "outputs": []
    },
    {
      "cell_type": "code",
      "metadata": {
        "id": "sPJLXOCAMMUq",
        "colab_type": "code",
        "colab": {}
      },
      "source": [
        "#your code here- categorical variable\n"
      ],
      "execution_count": 0,
      "outputs": []
    },
    {
      "cell_type": "markdown",
      "metadata": {
        "id": "O8qJe6yPMMUu",
        "colab_type": "text"
      },
      "source": [
        "#### Set the plot style to `classic` and the figure size to `(12,6)`\n",
        "\n",
        "*Hint: To set the style you can use `matplotlib.pyplot` functions or seaborn*"
      ]
    },
    {
      "cell_type": "code",
      "metadata": {
        "id": "pWoqT30BMMUu",
        "colab_type": "code",
        "colab": {}
      },
      "source": [
        "# your code here\n"
      ],
      "execution_count": 0,
      "outputs": []
    },
    {
      "cell_type": "markdown",
      "metadata": {
        "id": "8KJYNqjbMMU2",
        "colab_type": "text"
      },
      "source": [
        "#### Use the appropriate visulalization to show the distribution of the column `Age`"
      ]
    },
    {
      "cell_type": "code",
      "metadata": {
        "id": "b_QLyeeUMMU2",
        "colab_type": "code",
        "colab": {}
      },
      "source": [
        "# your code here\n"
      ],
      "execution_count": 0,
      "outputs": []
    },
    {
      "cell_type": "markdown",
      "metadata": {
        "id": "rJEdCJ_SMMU6",
        "colab_type": "text"
      },
      "source": [
        "#### Use subplots to plot the distribution of the `Age` variable with bins equal to `10`, `20` and `50`."
      ]
    },
    {
      "cell_type": "code",
      "metadata": {
        "id": "0rQs3oXnMMU7",
        "colab_type": "code",
        "colab": {}
      },
      "source": [
        "# your code here\n"
      ],
      "execution_count": 0,
      "outputs": []
    },
    {
      "cell_type": "markdown",
      "metadata": {
        "id": "Wd-11qbMMMU_",
        "colab_type": "text"
      },
      "source": [
        "#### Whether the bin size affects your plot? Why?"
      ]
    },
    {
      "cell_type": "code",
      "metadata": {
        "id": "pCUzJ220MMU_",
        "colab_type": "code",
        "colab": {}
      },
      "source": [
        "#your comment here\n"
      ],
      "execution_count": 0,
      "outputs": []
    },
    {
      "cell_type": "markdown",
      "metadata": {
        "id": "wF2Smq6tMMVC",
        "colab_type": "text"
      },
      "source": [
        "#### Use seaborn to show the distribution of the column `Age`"
      ]
    },
    {
      "cell_type": "code",
      "metadata": {
        "id": "zQ3bJL_KMMVD",
        "colab_type": "code",
        "colab": {}
      },
      "source": [
        "# your code here\n"
      ],
      "execution_count": 0,
      "outputs": []
    },
    {
      "cell_type": "markdown",
      "metadata": {
        "id": "CuAatHuYMMVG",
        "colab_type": "text"
      },
      "source": [
        "#### Use the appropriate plot to visualize the column `Gender`. There are 2 ways of doing it. Do it both ways.\n",
        "\n",
        "*Hint: Use matplotlib and seaborn*"
      ]
    },
    {
      "cell_type": "code",
      "metadata": {
        "id": "EAWUibqvMMVH",
        "colab_type": "code",
        "colab": {}
      },
      "source": [
        "# your code here- 1st way\n"
      ],
      "execution_count": 0,
      "outputs": []
    },
    {
      "cell_type": "code",
      "metadata": {
        "id": "KdoOS9kDMMVK",
        "colab_type": "code",
        "colab": {}
      },
      "source": [
        "# your code here- 2nd way\n"
      ],
      "execution_count": 0,
      "outputs": []
    },
    {
      "cell_type": "markdown",
      "metadata": {
        "id": "23gqYoHaMMVN",
        "colab_type": "text"
      },
      "source": [
        "#### Use the appropriate plot to visualize the column `Pclass` \n"
      ]
    },
    {
      "cell_type": "code",
      "metadata": {
        "id": "GggLMiolMMVN",
        "colab_type": "code",
        "colab": {}
      },
      "source": [
        "# your code here\n"
      ],
      "execution_count": 0,
      "outputs": []
    },
    {
      "cell_type": "markdown",
      "metadata": {
        "id": "E7SrICrdMMVP",
        "colab_type": "text"
      },
      "source": [
        "#### We would like to have in one single plot the summary statistics of the feature `Age`. Choose the appropriate plot to show below."
      ]
    },
    {
      "cell_type": "code",
      "metadata": {
        "id": "Uk3iqG3MMMVS",
        "colab_type": "code",
        "colab": {}
      },
      "source": [
        "# your code here\n"
      ],
      "execution_count": 0,
      "outputs": []
    },
    {
      "cell_type": "markdown",
      "metadata": {
        "id": "F-mMNFubMMVW",
        "colab_type": "text"
      },
      "source": [
        "#### What does the previous plot tell you about the feature `Age`? Comment."
      ]
    },
    {
      "cell_type": "code",
      "metadata": {
        "id": "B8WZFfRnMMVX",
        "colab_type": "code",
        "colab": {}
      },
      "source": [
        "# your comment here\n"
      ],
      "execution_count": 0,
      "outputs": []
    },
    {
      "cell_type": "markdown",
      "metadata": {
        "id": "qwUEaySqMMVe",
        "colab_type": "text"
      },
      "source": [
        "#### Now in addition to the summary statistics, we also want to visualize the distribution of `Age`. Choose the appropriate plot to sow below."
      ]
    },
    {
      "cell_type": "code",
      "metadata": {
        "id": "-AEekvUqMMVe",
        "colab_type": "code",
        "colab": {}
      },
      "source": [
        "#your code here\n"
      ],
      "execution_count": 0,
      "outputs": []
    },
    {
      "cell_type": "markdown",
      "metadata": {
        "id": "x7F2hTQ-MMVi",
        "colab_type": "text"
      },
      "source": [
        "#### What additional information in the previous plot provide you about the feature `Age`? Comment."
      ]
    },
    {
      "cell_type": "code",
      "metadata": {
        "id": "7w20e84nMMVi",
        "colab_type": "code",
        "colab": {}
      },
      "source": [
        "#your comment here\n"
      ],
      "execution_count": 0,
      "outputs": []
    },
    {
      "cell_type": "markdown",
      "metadata": {
        "id": "szJxNaklMMVl",
        "colab_type": "text"
      },
      "source": [
        "#### We suspect that there is a linear relationship between `Fare` and `Age`. Use the appropriate plot to show the relationship between these 2 features. There are 2 ways, please do it both ways.\n",
        "\n",
        "*Hint: One of the ways involves using Seaborn*"
      ]
    },
    {
      "cell_type": "code",
      "metadata": {
        "id": "yZFE4znNMMVm",
        "colab_type": "code",
        "colab": {}
      },
      "source": [
        "#your code-1st way\n"
      ],
      "execution_count": 0,
      "outputs": []
    },
    {
      "cell_type": "code",
      "metadata": {
        "id": "OCC2fRYiMMVo",
        "colab_type": "code",
        "colab": {}
      },
      "source": [
        "# your code-2nd way\n"
      ],
      "execution_count": 0,
      "outputs": []
    },
    {
      "cell_type": "markdown",
      "metadata": {
        "id": "tXbREXriMMVr",
        "colab_type": "text"
      },
      "source": [
        "#### Using Seaborn plot the correlation matrix of various features.\n",
        "\n",
        "*Hint: search how to use `heatmap`*"
      ]
    },
    {
      "cell_type": "code",
      "metadata": {
        "id": "01OC_dalMMVs",
        "colab_type": "code",
        "colab": {}
      },
      "source": [
        "#your code here\n"
      ],
      "execution_count": 0,
      "outputs": []
    },
    {
      "cell_type": "markdown",
      "metadata": {
        "id": "mtxUI5dtMMVv",
        "colab_type": "text"
      },
      "source": [
        "#### According to the previous plot, what are the most correlated feature? Comment."
      ]
    },
    {
      "cell_type": "code",
      "metadata": {
        "id": "-J8CS8CWMMVy",
        "colab_type": "code",
        "colab": {}
      },
      "source": [
        "#your comment here\n"
      ],
      "execution_count": 0,
      "outputs": []
    },
    {
      "cell_type": "markdown",
      "metadata": {
        "id": "g5Uh5E24MMV2",
        "colab_type": "text"
      },
      "source": [
        "#### Use the appropriate plot to display the summary statistics of the `Age` in function of the `Pclass`.\n",
        "\n",
        "*Hint: use boxplot to display summary statistics of `Age` in relation to each of the discrete values of `Pclass`*"
      ]
    },
    {
      "cell_type": "code",
      "metadata": {
        "id": "Br71H6hJMMV2",
        "colab_type": "code",
        "colab": {}
      },
      "source": [
        "#your code here\n"
      ],
      "execution_count": 0,
      "outputs": []
    },
    {
      "cell_type": "markdown",
      "metadata": {
        "id": "79n63vIIMMV6",
        "colab_type": "text"
      },
      "source": [
        "#### Use the appropriate plot to display the distributions of  `Age` in relation to  `Gender`.\n",
        "\n",
        "*Hint: use Facetgrid to display the distribution of `Age` for each categorical value of `Gender`*"
      ]
    },
    {
      "cell_type": "code",
      "metadata": {
        "id": "tk10mlU1MMV7",
        "colab_type": "code",
        "colab": {}
      },
      "source": [
        "#your code here\n"
      ],
      "execution_count": 0,
      "outputs": []
    }
  ]
}