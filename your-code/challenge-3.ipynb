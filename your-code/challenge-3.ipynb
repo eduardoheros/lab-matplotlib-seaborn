{
  "nbformat": 4,
  "nbformat_minor": 0,
  "metadata": {
    "kernelspec": {
      "display_name": "Python 3",
      "language": "python",
      "name": "python3"
    },
    "language_info": {
      "codemirror_mode": {
        "name": "ipython",
        "version": 3
      },
      "file_extension": ".py",
      "mimetype": "text/x-python",
      "name": "python",
      "nbconvert_exporter": "python",
      "pygments_lexer": "ipython3",
      "version": "3.7.0"
    },
    "colab": {
      "name": "challenge-3.ipynb",
      "provenance": []
    }
  },
  "cells": [
    {
      "cell_type": "markdown",
      "metadata": {
        "id": "hZP8c76wMMUP",
        "colab_type": "text"
      },
      "source": [
        "# Challenge 3"
      ]
    },
    {
      "cell_type": "code",
      "metadata": {
        "id": "lJMRTzlRMMUR",
        "colab_type": "code",
        "outputId": "0a2fb014-6e4b-4638-f729-fb085cdee9e0",
        "colab": {
          "base_uri": "https://localhost:8080/",
          "height": 51
        }
      },
      "source": [
        "# import libraries here\n",
        "import pandas as pd\n",
        "\n",
        "import numpy as np\n",
        "import matplotlib.pyplot as plt\n",
        "import seaborn as sns\n",
        "%matplotlib inline\n"
      ],
      "execution_count": 1,
      "outputs": [
        {
          "output_type": "stream",
          "text": [
            "/usr/local/lib/python3.6/dist-packages/statsmodels/tools/_testing.py:19: FutureWarning: pandas.util.testing is deprecated. Use the functions in the public API at pandas.testing instead.\n",
            "  import pandas.util.testing as tm\n"
          ],
          "name": "stderr"
        }
      ]
    },
    {
      "cell_type": "markdown",
      "metadata": {
        "id": "oS282Py6MMUY",
        "colab_type": "text"
      },
      "source": [
        "#### Import the titanic file. Name your dataset `titanic`."
      ]
    },
    {
      "cell_type": "code",
      "metadata": {
        "id": "iOaIwK12MMUZ",
        "colab_type": "code",
        "outputId": "7dbd9040-f9f9-4612-d828-fa2994e57a87",
        "colab": {
          "base_uri": "https://localhost:8080/",
          "height": 204
        }
      },
      "source": [
        "titanic = pd.read_csv('https://raw.githubusercontent.com/eduardoheros/lab-matplotlib-seaborn/master/your-code/titanic.csv',low_memory=False)\n",
        "titanic.head()"
      ],
      "execution_count": 2,
      "outputs": [
        {
          "output_type": "execute_result",
          "data": {
            "text/html": [
              "<div>\n",
              "<style scoped>\n",
              "    .dataframe tbody tr th:only-of-type {\n",
              "        vertical-align: middle;\n",
              "    }\n",
              "\n",
              "    .dataframe tbody tr th {\n",
              "        vertical-align: top;\n",
              "    }\n",
              "\n",
              "    .dataframe thead th {\n",
              "        text-align: right;\n",
              "    }\n",
              "</style>\n",
              "<table border=\"1\" class=\"dataframe\">\n",
              "  <thead>\n",
              "    <tr style=\"text-align: right;\">\n",
              "      <th></th>\n",
              "      <th>PassengerId</th>\n",
              "      <th>Survived</th>\n",
              "      <th>Pclass</th>\n",
              "      <th>Name</th>\n",
              "      <th>Gender</th>\n",
              "      <th>Age</th>\n",
              "      <th>SibSp</th>\n",
              "      <th>Parch</th>\n",
              "      <th>Ticket</th>\n",
              "      <th>Fare</th>\n",
              "      <th>Cabin</th>\n",
              "      <th>Embarked</th>\n",
              "    </tr>\n",
              "  </thead>\n",
              "  <tbody>\n",
              "    <tr>\n",
              "      <th>0</th>\n",
              "      <td>1</td>\n",
              "      <td>0.0</td>\n",
              "      <td>3</td>\n",
              "      <td>Braund, Mr. Owen Harris</td>\n",
              "      <td>male</td>\n",
              "      <td>22.0</td>\n",
              "      <td>1</td>\n",
              "      <td>0</td>\n",
              "      <td>A/5 21171</td>\n",
              "      <td>7.2500</td>\n",
              "      <td>U0</td>\n",
              "      <td>S</td>\n",
              "    </tr>\n",
              "    <tr>\n",
              "      <th>1</th>\n",
              "      <td>2</td>\n",
              "      <td>1.0</td>\n",
              "      <td>1</td>\n",
              "      <td>Cumings, Mrs. John Bradley (Florence Briggs Th...</td>\n",
              "      <td>female</td>\n",
              "      <td>38.0</td>\n",
              "      <td>1</td>\n",
              "      <td>0</td>\n",
              "      <td>PC 17599</td>\n",
              "      <td>71.2833</td>\n",
              "      <td>C85</td>\n",
              "      <td>C</td>\n",
              "    </tr>\n",
              "    <tr>\n",
              "      <th>2</th>\n",
              "      <td>3</td>\n",
              "      <td>1.0</td>\n",
              "      <td>3</td>\n",
              "      <td>Heikkinen, Miss. Laina</td>\n",
              "      <td>female</td>\n",
              "      <td>26.0</td>\n",
              "      <td>0</td>\n",
              "      <td>0</td>\n",
              "      <td>STON/O2. 3101282</td>\n",
              "      <td>7.9250</td>\n",
              "      <td>U0</td>\n",
              "      <td>S</td>\n",
              "    </tr>\n",
              "    <tr>\n",
              "      <th>3</th>\n",
              "      <td>4</td>\n",
              "      <td>1.0</td>\n",
              "      <td>1</td>\n",
              "      <td>Futrelle, Mrs. Jacques Heath (Lily May Peel)</td>\n",
              "      <td>female</td>\n",
              "      <td>35.0</td>\n",
              "      <td>1</td>\n",
              "      <td>0</td>\n",
              "      <td>113803</td>\n",
              "      <td>53.1000</td>\n",
              "      <td>C123</td>\n",
              "      <td>S</td>\n",
              "    </tr>\n",
              "    <tr>\n",
              "      <th>4</th>\n",
              "      <td>5</td>\n",
              "      <td>0.0</td>\n",
              "      <td>3</td>\n",
              "      <td>Allen, Mr. William Henry</td>\n",
              "      <td>male</td>\n",
              "      <td>35.0</td>\n",
              "      <td>0</td>\n",
              "      <td>0</td>\n",
              "      <td>373450</td>\n",
              "      <td>8.0500</td>\n",
              "      <td>U0</td>\n",
              "      <td>S</td>\n",
              "    </tr>\n",
              "  </tbody>\n",
              "</table>\n",
              "</div>"
            ],
            "text/plain": [
              "   PassengerId  Survived  Pclass  ...     Fare Cabin  Embarked\n",
              "0            1       0.0       3  ...   7.2500    U0         S\n",
              "1            2       1.0       1  ...  71.2833   C85         C\n",
              "2            3       1.0       3  ...   7.9250    U0         S\n",
              "3            4       1.0       1  ...  53.1000  C123         S\n",
              "4            5       0.0       3  ...   8.0500    U0         S\n",
              "\n",
              "[5 rows x 12 columns]"
            ]
          },
          "metadata": {
            "tags": []
          },
          "execution_count": 2
        }
      ]
    },
    {
      "cell_type": "markdown",
      "metadata": {
        "id": "-M9c8i95MMUf",
        "colab_type": "text"
      },
      "source": [
        "#### Explore the titanic dataset using Pandas dtypes"
      ]
    },
    {
      "cell_type": "code",
      "metadata": {
        "id": "AOur3I8aMMUf",
        "colab_type": "code",
        "outputId": "9fc95c0d-0600-425b-ff90-3c9152359d01",
        "colab": {
          "base_uri": "https://localhost:8080/",
          "height": 238
        }
      },
      "source": [
        "titanic.dtypes"
      ],
      "execution_count": 0,
      "outputs": [
        {
          "output_type": "execute_result",
          "data": {
            "text/plain": [
              "PassengerId      int64\n",
              "Survived       float64\n",
              "Pclass           int64\n",
              "Name            object\n",
              "Gender          object\n",
              "Age            float64\n",
              "SibSp            int64\n",
              "Parch            int64\n",
              "Ticket          object\n",
              "Fare           float64\n",
              "Cabin           object\n",
              "Embarked        object\n",
              "dtype: object"
            ]
          },
          "metadata": {
            "tags": []
          },
          "execution_count": 3
        }
      ]
    },
    {
      "cell_type": "code",
      "metadata": {
        "id": "Qv4DCL8sAEF0",
        "colab_type": "code",
        "colab": {
          "base_uri": "https://localhost:8080/",
          "height": 340
        },
        "outputId": "4da6f215-52ba-4350-fb6a-5de016315f0e"
      },
      "source": [
        "titanic.info()"
      ],
      "execution_count": 6,
      "outputs": [
        {
          "output_type": "stream",
          "text": [
            "<class 'pandas.core.frame.DataFrame'>\n",
            "RangeIndex: 1309 entries, 0 to 1308\n",
            "Data columns (total 12 columns):\n",
            " #   Column       Non-Null Count  Dtype  \n",
            "---  ------       --------------  -----  \n",
            " 0   PassengerId  1309 non-null   int64  \n",
            " 1   Survived     891 non-null    float64\n",
            " 2   Pclass       1309 non-null   int64  \n",
            " 3   Name         1309 non-null   object \n",
            " 4   Gender       1309 non-null   object \n",
            " 5   Age          1309 non-null   float64\n",
            " 6   SibSp        1309 non-null   int64  \n",
            " 7   Parch        1309 non-null   int64  \n",
            " 8   Ticket       1309 non-null   object \n",
            " 9   Fare         1309 non-null   float64\n",
            " 10  Cabin        1309 non-null   object \n",
            " 11  Embarked     1309 non-null   object \n",
            "dtypes: float64(3), int64(4), object(5)\n",
            "memory usage: 122.8+ KB\n"
          ],
          "name": "stdout"
        }
      ]
    },
    {
      "cell_type": "markdown",
      "metadata": {
        "id": "3gCLkJLcMMUm",
        "colab_type": "text"
      },
      "source": [
        "#### What are your numerical variables? What are your categorical variables?\n",
        "\n",
        "*Hint: Use Pandas `select_dtypes`*"
      ]
    },
    {
      "cell_type": "code",
      "metadata": {
        "id": "pnMjD0YSMMUm",
        "colab_type": "code",
        "colab": {
          "base_uri": "https://localhost:8080/",
          "height": 419
        },
        "outputId": "0f292a5d-f611-4596-984f-06d90c12b22e"
      },
      "source": [
        "titanic.select_dtypes(include=[\"int64\",\"float64\"])"
      ],
      "execution_count": 7,
      "outputs": [
        {
          "output_type": "execute_result",
          "data": {
            "text/html": [
              "<div>\n",
              "<style scoped>\n",
              "    .dataframe tbody tr th:only-of-type {\n",
              "        vertical-align: middle;\n",
              "    }\n",
              "\n",
              "    .dataframe tbody tr th {\n",
              "        vertical-align: top;\n",
              "    }\n",
              "\n",
              "    .dataframe thead th {\n",
              "        text-align: right;\n",
              "    }\n",
              "</style>\n",
              "<table border=\"1\" class=\"dataframe\">\n",
              "  <thead>\n",
              "    <tr style=\"text-align: right;\">\n",
              "      <th></th>\n",
              "      <th>PassengerId</th>\n",
              "      <th>Survived</th>\n",
              "      <th>Pclass</th>\n",
              "      <th>Age</th>\n",
              "      <th>SibSp</th>\n",
              "      <th>Parch</th>\n",
              "      <th>Fare</th>\n",
              "    </tr>\n",
              "  </thead>\n",
              "  <tbody>\n",
              "    <tr>\n",
              "      <th>0</th>\n",
              "      <td>1</td>\n",
              "      <td>0.0</td>\n",
              "      <td>3</td>\n",
              "      <td>22.000000</td>\n",
              "      <td>1</td>\n",
              "      <td>0</td>\n",
              "      <td>7.2500</td>\n",
              "    </tr>\n",
              "    <tr>\n",
              "      <th>1</th>\n",
              "      <td>2</td>\n",
              "      <td>1.0</td>\n",
              "      <td>1</td>\n",
              "      <td>38.000000</td>\n",
              "      <td>1</td>\n",
              "      <td>0</td>\n",
              "      <td>71.2833</td>\n",
              "    </tr>\n",
              "    <tr>\n",
              "      <th>2</th>\n",
              "      <td>3</td>\n",
              "      <td>1.0</td>\n",
              "      <td>3</td>\n",
              "      <td>26.000000</td>\n",
              "      <td>0</td>\n",
              "      <td>0</td>\n",
              "      <td>7.9250</td>\n",
              "    </tr>\n",
              "    <tr>\n",
              "      <th>3</th>\n",
              "      <td>4</td>\n",
              "      <td>1.0</td>\n",
              "      <td>1</td>\n",
              "      <td>35.000000</td>\n",
              "      <td>1</td>\n",
              "      <td>0</td>\n",
              "      <td>53.1000</td>\n",
              "    </tr>\n",
              "    <tr>\n",
              "      <th>4</th>\n",
              "      <td>5</td>\n",
              "      <td>0.0</td>\n",
              "      <td>3</td>\n",
              "      <td>35.000000</td>\n",
              "      <td>0</td>\n",
              "      <td>0</td>\n",
              "      <td>8.0500</td>\n",
              "    </tr>\n",
              "    <tr>\n",
              "      <th>...</th>\n",
              "      <td>...</td>\n",
              "      <td>...</td>\n",
              "      <td>...</td>\n",
              "      <td>...</td>\n",
              "      <td>...</td>\n",
              "      <td>...</td>\n",
              "      <td>...</td>\n",
              "    </tr>\n",
              "    <tr>\n",
              "      <th>1304</th>\n",
              "      <td>1305</td>\n",
              "      <td>NaN</td>\n",
              "      <td>3</td>\n",
              "      <td>29.513190</td>\n",
              "      <td>0</td>\n",
              "      <td>0</td>\n",
              "      <td>8.0500</td>\n",
              "    </tr>\n",
              "    <tr>\n",
              "      <th>1305</th>\n",
              "      <td>1306</td>\n",
              "      <td>NaN</td>\n",
              "      <td>1</td>\n",
              "      <td>39.000000</td>\n",
              "      <td>0</td>\n",
              "      <td>0</td>\n",
              "      <td>108.9000</td>\n",
              "    </tr>\n",
              "    <tr>\n",
              "      <th>1306</th>\n",
              "      <td>1307</td>\n",
              "      <td>NaN</td>\n",
              "      <td>3</td>\n",
              "      <td>38.500000</td>\n",
              "      <td>0</td>\n",
              "      <td>0</td>\n",
              "      <td>7.2500</td>\n",
              "    </tr>\n",
              "    <tr>\n",
              "      <th>1307</th>\n",
              "      <td>1308</td>\n",
              "      <td>NaN</td>\n",
              "      <td>3</td>\n",
              "      <td>29.513190</td>\n",
              "      <td>0</td>\n",
              "      <td>0</td>\n",
              "      <td>8.0500</td>\n",
              "    </tr>\n",
              "    <tr>\n",
              "      <th>1308</th>\n",
              "      <td>1309</td>\n",
              "      <td>NaN</td>\n",
              "      <td>3</td>\n",
              "      <td>25.315435</td>\n",
              "      <td>1</td>\n",
              "      <td>1</td>\n",
              "      <td>22.3583</td>\n",
              "    </tr>\n",
              "  </tbody>\n",
              "</table>\n",
              "<p>1309 rows × 7 columns</p>\n",
              "</div>"
            ],
            "text/plain": [
              "      PassengerId  Survived  Pclass        Age  SibSp  Parch      Fare\n",
              "0               1       0.0       3  22.000000      1      0    7.2500\n",
              "1               2       1.0       1  38.000000      1      0   71.2833\n",
              "2               3       1.0       3  26.000000      0      0    7.9250\n",
              "3               4       1.0       1  35.000000      1      0   53.1000\n",
              "4               5       0.0       3  35.000000      0      0    8.0500\n",
              "...           ...       ...     ...        ...    ...    ...       ...\n",
              "1304         1305       NaN       3  29.513190      0      0    8.0500\n",
              "1305         1306       NaN       1  39.000000      0      0  108.9000\n",
              "1306         1307       NaN       3  38.500000      0      0    7.2500\n",
              "1307         1308       NaN       3  29.513190      0      0    8.0500\n",
              "1308         1309       NaN       3  25.315435      1      1   22.3583\n",
              "\n",
              "[1309 rows x 7 columns]"
            ]
          },
          "metadata": {
            "tags": []
          },
          "execution_count": 7
        }
      ]
    },
    {
      "cell_type": "code",
      "metadata": {
        "id": "sPJLXOCAMMUq",
        "colab_type": "code",
        "colab": {
          "base_uri": "https://localhost:8080/",
          "height": 419
        },
        "outputId": "28d24290-5c74-40f6-a577-4576c4a730a2"
      },
      "source": [
        "titanic.select_dtypes(include=\"object\")\n"
      ],
      "execution_count": 8,
      "outputs": [
        {
          "output_type": "execute_result",
          "data": {
            "text/html": [
              "<div>\n",
              "<style scoped>\n",
              "    .dataframe tbody tr th:only-of-type {\n",
              "        vertical-align: middle;\n",
              "    }\n",
              "\n",
              "    .dataframe tbody tr th {\n",
              "        vertical-align: top;\n",
              "    }\n",
              "\n",
              "    .dataframe thead th {\n",
              "        text-align: right;\n",
              "    }\n",
              "</style>\n",
              "<table border=\"1\" class=\"dataframe\">\n",
              "  <thead>\n",
              "    <tr style=\"text-align: right;\">\n",
              "      <th></th>\n",
              "      <th>Name</th>\n",
              "      <th>Gender</th>\n",
              "      <th>Ticket</th>\n",
              "      <th>Cabin</th>\n",
              "      <th>Embarked</th>\n",
              "    </tr>\n",
              "  </thead>\n",
              "  <tbody>\n",
              "    <tr>\n",
              "      <th>0</th>\n",
              "      <td>Braund, Mr. Owen Harris</td>\n",
              "      <td>male</td>\n",
              "      <td>A/5 21171</td>\n",
              "      <td>U0</td>\n",
              "      <td>S</td>\n",
              "    </tr>\n",
              "    <tr>\n",
              "      <th>1</th>\n",
              "      <td>Cumings, Mrs. John Bradley (Florence Briggs Th...</td>\n",
              "      <td>female</td>\n",
              "      <td>PC 17599</td>\n",
              "      <td>C85</td>\n",
              "      <td>C</td>\n",
              "    </tr>\n",
              "    <tr>\n",
              "      <th>2</th>\n",
              "      <td>Heikkinen, Miss. Laina</td>\n",
              "      <td>female</td>\n",
              "      <td>STON/O2. 3101282</td>\n",
              "      <td>U0</td>\n",
              "      <td>S</td>\n",
              "    </tr>\n",
              "    <tr>\n",
              "      <th>3</th>\n",
              "      <td>Futrelle, Mrs. Jacques Heath (Lily May Peel)</td>\n",
              "      <td>female</td>\n",
              "      <td>113803</td>\n",
              "      <td>C123</td>\n",
              "      <td>S</td>\n",
              "    </tr>\n",
              "    <tr>\n",
              "      <th>4</th>\n",
              "      <td>Allen, Mr. William Henry</td>\n",
              "      <td>male</td>\n",
              "      <td>373450</td>\n",
              "      <td>U0</td>\n",
              "      <td>S</td>\n",
              "    </tr>\n",
              "    <tr>\n",
              "      <th>...</th>\n",
              "      <td>...</td>\n",
              "      <td>...</td>\n",
              "      <td>...</td>\n",
              "      <td>...</td>\n",
              "      <td>...</td>\n",
              "    </tr>\n",
              "    <tr>\n",
              "      <th>1304</th>\n",
              "      <td>Spector, Mr. Woolf</td>\n",
              "      <td>male</td>\n",
              "      <td>A.5. 3236</td>\n",
              "      <td>U0</td>\n",
              "      <td>S</td>\n",
              "    </tr>\n",
              "    <tr>\n",
              "      <th>1305</th>\n",
              "      <td>Oliva y Ocana, Dona. Fermina</td>\n",
              "      <td>female</td>\n",
              "      <td>PC 17758</td>\n",
              "      <td>C105</td>\n",
              "      <td>C</td>\n",
              "    </tr>\n",
              "    <tr>\n",
              "      <th>1306</th>\n",
              "      <td>Saether, Mr. Simon Sivertsen</td>\n",
              "      <td>male</td>\n",
              "      <td>SOTON/O.Q. 3101262</td>\n",
              "      <td>U0</td>\n",
              "      <td>S</td>\n",
              "    </tr>\n",
              "    <tr>\n",
              "      <th>1307</th>\n",
              "      <td>Ware, Mr. Frederick</td>\n",
              "      <td>male</td>\n",
              "      <td>359309</td>\n",
              "      <td>U0</td>\n",
              "      <td>S</td>\n",
              "    </tr>\n",
              "    <tr>\n",
              "      <th>1308</th>\n",
              "      <td>Peter, Master. Michael J</td>\n",
              "      <td>male</td>\n",
              "      <td>2668</td>\n",
              "      <td>U0</td>\n",
              "      <td>C</td>\n",
              "    </tr>\n",
              "  </tbody>\n",
              "</table>\n",
              "<p>1309 rows × 5 columns</p>\n",
              "</div>"
            ],
            "text/plain": [
              "                                                   Name  Gender  ... Cabin Embarked\n",
              "0                               Braund, Mr. Owen Harris    male  ...    U0        S\n",
              "1     Cumings, Mrs. John Bradley (Florence Briggs Th...  female  ...   C85        C\n",
              "2                                Heikkinen, Miss. Laina  female  ...    U0        S\n",
              "3          Futrelle, Mrs. Jacques Heath (Lily May Peel)  female  ...  C123        S\n",
              "4                              Allen, Mr. William Henry    male  ...    U0        S\n",
              "...                                                 ...     ...  ...   ...      ...\n",
              "1304                                 Spector, Mr. Woolf    male  ...    U0        S\n",
              "1305                       Oliva y Ocana, Dona. Fermina  female  ...  C105        C\n",
              "1306                       Saether, Mr. Simon Sivertsen    male  ...    U0        S\n",
              "1307                                Ware, Mr. Frederick    male  ...    U0        S\n",
              "1308                           Peter, Master. Michael J    male  ...    U0        C\n",
              "\n",
              "[1309 rows x 5 columns]"
            ]
          },
          "metadata": {
            "tags": []
          },
          "execution_count": 8
        }
      ]
    },
    {
      "cell_type": "markdown",
      "metadata": {
        "id": "O8qJe6yPMMUu",
        "colab_type": "text"
      },
      "source": [
        "#### Set the plot style to `classic` and the figure size to `(12,6)`\n",
        "\n",
        "*Hint: To set the style you can use `matplotlib.pyplot` functions or seaborn*"
      ]
    },
    {
      "cell_type": "code",
      "metadata": {
        "id": "pWoqT30BMMUu",
        "colab_type": "code",
        "colab": {
          "base_uri": "https://localhost:8080/",
          "height": 34
        },
        "outputId": "ef113dbc-71aa-4105-a01d-813f1ff6b034"
      },
      "source": [
        "plt.figure(figsize=(12,6))\n",
        "plt.style.use(\"classic\")\n"
      ],
      "execution_count": 9,
      "outputs": [
        {
          "output_type": "display_data",
          "data": {
            "text/plain": [
              "<Figure size 864x432 with 0 Axes>"
            ]
          },
          "metadata": {
            "tags": []
          }
        }
      ]
    },
    {
      "cell_type": "markdown",
      "metadata": {
        "id": "8KJYNqjbMMU2",
        "colab_type": "text"
      },
      "source": [
        "#### Use the appropriate visulalization to show the distribution of the column `Age`"
      ]
    },
    {
      "cell_type": "code",
      "metadata": {
        "id": "b_QLyeeUMMU2",
        "colab_type": "code",
        "colab": {
          "base_uri": "https://localhost:8080/",
          "height": 440
        },
        "outputId": "85712b2a-8c5b-4e64-93f1-2f99c638feb7"
      },
      "source": [
        "plt.hist(titanic[\"Age\"]);\n"
      ],
      "execution_count": 11,
      "outputs": [
        {
          "output_type": "display_data",
          "data": {
            "image/png": "[encoded data removed]",
            "text/plain": [
              "<Figure size 640x480 with 1 Axes>"
            ]
          },
          "metadata": {
            "tags": []
          }
        }
      ]
    },
    {
      "cell_type": "markdown",
      "metadata": {
        "id": "rJEdCJ_SMMU6",
        "colab_type": "text"
      },
      "source": [
        "#### Use subplots to plot the distribution of the `Age` variable with bins equal to `10`, `20` and `50`."
      ]
    },
    {
      "cell_type": "code",
      "metadata": {
        "id": "0rQs3oXnMMU7",
        "colab_type": "code",
        "colab": {
          "base_uri": "https://localhost:8080/",
          "height": 440
        },
        "outputId": "8dc5f81e-9c28-4944-8f0c-a0fc893dc74c"
      },
      "source": [
        "fig,ax=plt.subplots(nrows=1,ncols=3)\n",
        "bins=[10,20,50]\n",
        "for i in range(3):\n",
        "  ax[i].hist(titanic[\"Age\"],bins=bins[i])\n"
      ],
      "execution_count": 22,
      "outputs": [
        {
          "output_type": "display_data",
          "data": {
            "image/png": "[encoded data removed]",
            "text/plain": [
              "<Figure size 640x480 with 3 Axes>"
            ]
          },
          "metadata": {
            "tags": []
          }
        }
      ]
    },
    {
      "cell_type": "markdown",
      "metadata": {
        "id": "Wd-11qbMMMU_",
        "colab_type": "text"
      },
      "source": [
        "#### Whether the bin size affects your plot? Why?"
      ]
    },
    {
      "cell_type": "code",
      "metadata": {
        "id": "pCUzJ220MMU_",
        "colab_type": "code",
        "colab": {}
      },
      "source": [
        "#your comment here\n",
        "##Sí, cambian un poco el entendimiento de los datos"
      ],
      "execution_count": 0,
      "outputs": []
    },
    {
      "cell_type": "markdown",
      "metadata": {
        "id": "wF2Smq6tMMVC",
        "colab_type": "text"
      },
      "source": [
        "#### Use seaborn to show the distribution of the column `Age`"
      ]
    },
    {
      "cell_type": "code",
      "metadata": {
        "id": "zQ3bJL_KMMVD",
        "colab_type": "code",
        "colab": {
          "base_uri": "https://localhost:8080/",
          "height": 459
        },
        "outputId": "a9209d9f-a574-424b-fa20-01beac8fbe06"
      },
      "source": [
        "sns.distplot(titanic.Age);\n"
      ],
      "execution_count": 28,
      "outputs": [
        {
          "output_type": "display_data",
          "data": {
            "image/png": "[encoded data removed]",
            "text/plain": [
              "<Figure size 640x480 with 1 Axes>"
            ]
          },
          "metadata": {
            "tags": []
          }
        }
      ]
    },
    {
      "cell_type": "markdown",
      "metadata": {
        "id": "CuAatHuYMMVG",
        "colab_type": "text"
      },
      "source": [
        "#### Use the appropriate plot to visualize the column `Gender`. There are 2 ways of doing it. Do it both ways.\n",
        "\n",
        "*Hint: Use matplotlib and seaborn*"
      ]
    },
    {
      "cell_type": "code",
      "metadata": {
        "id": "EAWUibqvMMVH",
        "colab_type": "code",
        "colab": {
          "base_uri": "https://localhost:8080/",
          "height": 440
        },
        "outputId": "f7262452-498e-4af3-daf5-65427122f60a"
      },
      "source": [
        "male=[titanic.Gender.value_counts().index[0],titanic.Gender.value_counts()[0]]\n",
        "female=[titanic.Gender.value_counts().index[1],titanic.Gender.value_counts()[1]]\n",
        "plt.bar([1,2],[male[1],female[1]])\n",
        "plt.xticks([1,2],labels=[male[0],female[0]]);"
      ],
      "execution_count": 59,
      "outputs": [
        {
          "output_type": "display_data",
          "data": {
            "image/png": "[encoded data removed]",
            "text/plain": [
              "<Figure size 640x480 with 1 Axes>"
            ]
          },
          "metadata": {
            "tags": []
          }
        }
      ]
    },
    {
      "cell_type": "code",
      "metadata": {
        "id": "KdoOS9kDMMVK",
        "colab_type": "code",
        "colab": {
          "base_uri": "https://localhost:8080/",
          "height": 459
        },
        "outputId": "d3fe3073-0bff-4635-d76d-0e5bb1e75e60"
      },
      "source": [
        "# your code here- 2nd way\n",
        "sns.countplot(titanic.Gender,palette=\"husl\");"
      ],
      "execution_count": 63,
      "outputs": [
        {
          "output_type": "display_data",
          "data": {
            "image/png": "[encoded data removed]",
            "text/plain": [
              "<Figure size 640x480 with 1 Axes>"
            ]
          },
          "metadata": {
            "tags": []
          }
        }
      ]
    },
    {
      "cell_type": "markdown",
      "metadata": {
        "id": "23gqYoHaMMVN",
        "colab_type": "text"
      },
      "source": [
        "#### Use the appropriate plot to visualize the column `Pclass` \n"
      ]
    },
    {
      "cell_type": "code",
      "metadata": {
        "id": "GggLMiolMMVN",
        "colab_type": "code",
        "colab": {
          "base_uri": "https://localhost:8080/",
          "height": 204
        },
        "outputId": "ba512e95-8789-430c-99e5-07ca82a1b929"
      },
      "source": [
        "titanic.head()"
      ],
      "execution_count": 65,
      "outputs": [
        {
          "output_type": "execute_result",
          "data": {
            "text/html": [
              "<div>\n",
              "<style scoped>\n",
              "    .dataframe tbody tr th:only-of-type {\n",
              "        vertical-align: middle;\n",
              "    }\n",
              "\n",
              "    .dataframe tbody tr th {\n",
              "        vertical-align: top;\n",
              "    }\n",
              "\n",
              "    .dataframe thead th {\n",
              "        text-align: right;\n",
              "    }\n",
              "</style>\n",
              "<table border=\"1\" class=\"dataframe\">\n",
              "  <thead>\n",
              "    <tr style=\"text-align: right;\">\n",
              "      <th></th>\n",
              "      <th>PassengerId</th>\n",
              "      <th>Survived</th>\n",
              "      <th>Pclass</th>\n",
              "      <th>Name</th>\n",
              "      <th>Gender</th>\n",
              "      <th>Age</th>\n",
              "      <th>SibSp</th>\n",
              "      <th>Parch</th>\n",
              "      <th>Ticket</th>\n",
              "      <th>Fare</th>\n",
              "      <th>Cabin</th>\n",
              "      <th>Embarked</th>\n",
              "    </tr>\n",
              "  </thead>\n",
              "  <tbody>\n",
              "    <tr>\n",
              "      <th>0</th>\n",
              "      <td>1</td>\n",
              "      <td>0.0</td>\n",
              "      <td>3</td>\n",
              "      <td>Braund, Mr. Owen Harris</td>\n",
              "      <td>male</td>\n",
              "      <td>22.0</td>\n",
              "      <td>1</td>\n",
              "      <td>0</td>\n",
              "      <td>A/5 21171</td>\n",
              "      <td>7.2500</td>\n",
              "      <td>U0</td>\n",
              "      <td>S</td>\n",
              "    </tr>\n",
              "    <tr>\n",
              "      <th>1</th>\n",
              "      <td>2</td>\n",
              "      <td>1.0</td>\n",
              "      <td>1</td>\n",
              "      <td>Cumings, Mrs. John Bradley (Florence Briggs Th...</td>\n",
              "      <td>female</td>\n",
              "      <td>38.0</td>\n",
              "      <td>1</td>\n",
              "      <td>0</td>\n",
              "      <td>PC 17599</td>\n",
              "      <td>71.2833</td>\n",
              "      <td>C85</td>\n",
              "      <td>C</td>\n",
              "    </tr>\n",
              "    <tr>\n",
              "      <th>2</th>\n",
              "      <td>3</td>\n",
              "      <td>1.0</td>\n",
              "      <td>3</td>\n",
              "      <td>Heikkinen, Miss. Laina</td>\n",
              "      <td>female</td>\n",
              "      <td>26.0</td>\n",
              "      <td>0</td>\n",
              "      <td>0</td>\n",
              "      <td>STON/O2. 3101282</td>\n",
              "      <td>7.9250</td>\n",
              "      <td>U0</td>\n",
              "      <td>S</td>\n",
              "    </tr>\n",
              "    <tr>\n",
              "      <th>3</th>\n",
              "      <td>4</td>\n",
              "      <td>1.0</td>\n",
              "      <td>1</td>\n",
              "      <td>Futrelle, Mrs. Jacques Heath (Lily May Peel)</td>\n",
              "      <td>female</td>\n",
              "      <td>35.0</td>\n",
              "      <td>1</td>\n",
              "      <td>0</td>\n",
              "      <td>113803</td>\n",
              "      <td>53.1000</td>\n",
              "      <td>C123</td>\n",
              "      <td>S</td>\n",
              "    </tr>\n",
              "    <tr>\n",
              "      <th>4</th>\n",
              "      <td>5</td>\n",
              "      <td>0.0</td>\n",
              "      <td>3</td>\n",
              "      <td>Allen, Mr. William Henry</td>\n",
              "      <td>male</td>\n",
              "      <td>35.0</td>\n",
              "      <td>0</td>\n",
              "      <td>0</td>\n",
              "      <td>373450</td>\n",
              "      <td>8.0500</td>\n",
              "      <td>U0</td>\n",
              "      <td>S</td>\n",
              "    </tr>\n",
              "  </tbody>\n",
              "</table>\n",
              "</div>"
            ],
            "text/plain": [
              "   PassengerId  Survived  Pclass  ...     Fare Cabin  Embarked\n",
              "0            1       0.0       3  ...   7.2500    U0         S\n",
              "1            2       1.0       1  ...  71.2833   C85         C\n",
              "2            3       1.0       3  ...   7.9250    U0         S\n",
              "3            4       1.0       1  ...  53.1000  C123         S\n",
              "4            5       0.0       3  ...   8.0500    U0         S\n",
              "\n",
              "[5 rows x 12 columns]"
            ]
          },
          "metadata": {
            "tags": []
          },
          "execution_count": 65
        }
      ]
    },
    {
      "cell_type": "markdown",
      "metadata": {
        "id": "E7SrICrdMMVP",
        "colab_type": "text"
      },
      "source": [
        "#### We would like to have in one single plot the summary statistics of the feature `Age`. Choose the appropriate plot to show below."
      ]
    },
    {
      "cell_type": "code",
      "metadata": {
        "id": "Uk3iqG3MMMVS",
        "colab_type": "code",
        "colab": {
          "base_uri": "https://localhost:8080/",
          "height": 459
        },
        "outputId": "76fd9c8f-ee4a-4189-9b16-2a683c546941"
      },
      "source": [
        "sns.countplot(titanic.Pclass,palette=\"Paired\",saturation=0.9);\n"
      ],
      "execution_count": 74,
      "outputs": [
        {
          "output_type": "display_data",
          "data": {
            "image/png": "[encoded data removed]",
            "text/plain": [
              "<Figure size 640x480 with 1 Axes>"
            ]
          },
          "metadata": {
            "tags": []
          }
        }
      ]
    },
    {
      "cell_type": "markdown",
      "metadata": {
        "id": "F-mMNFubMMVW",
        "colab_type": "text"
      },
      "source": [
        "#### What does the previous plot tell you about the feature `Age`? Comment."
      ]
    },
    {
      "cell_type": "code",
      "metadata": {
        "id": "B8WZFfRnMMVX",
        "colab_type": "code",
        "colab": {}
      },
      "source": [
        "# your comment here\n"
      ],
      "execution_count": 0,
      "outputs": []
    },
    {
      "cell_type": "markdown",
      "metadata": {
        "id": "qwUEaySqMMVe",
        "colab_type": "text"
      },
      "source": [
        "#### Now in addition to the summary statistics, we also want to visualize the distribution of `Age`. Choose the appropriate plot to sow below."
      ]
    },
    {
      "cell_type": "code",
      "metadata": {
        "id": "-AEekvUqMMVe",
        "colab_type": "code",
        "colab": {}
      },
      "source": [
        "#your code here\n"
      ],
      "execution_count": 0,
      "outputs": []
    },
    {
      "cell_type": "markdown",
      "metadata": {
        "id": "x7F2hTQ-MMVi",
        "colab_type": "text"
      },
      "source": [
        "#### What additional information in the previous plot provide you about the feature `Age`? Comment."
      ]
    },
    {
      "cell_type": "code",
      "metadata": {
        "id": "7w20e84nMMVi",
        "colab_type": "code",
        "colab": {}
      },
      "source": [
        "#your comment here\n"
      ],
      "execution_count": 0,
      "outputs": []
    },
    {
      "cell_type": "markdown",
      "metadata": {
        "id": "szJxNaklMMVl",
        "colab_type": "text"
      },
      "source": [
        "#### We suspect that there is a linear relationship between `Fare` and `Age`. Use the appropriate plot to show the relationship between these 2 features. There are 2 ways, please do it both ways.\n",
        "\n",
        "*Hint: One of the ways involves using Seaborn*"
      ]
    },
    {
      "cell_type": "code",
      "metadata": {
        "id": "yZFE4znNMMVm",
        "colab_type": "code",
        "colab": {}
      },
      "source": [
        "#your code-1st way\n"
      ],
      "execution_count": 0,
      "outputs": []
    },
    {
      "cell_type": "code",
      "metadata": {
        "id": "OCC2fRYiMMVo",
        "colab_type": "code",
        "colab": {}
      },
      "source": [
        "# your code-2nd way\n"
      ],
      "execution_count": 0,
      "outputs": []
    },
    {
      "cell_type": "markdown",
      "metadata": {
        "id": "tXbREXriMMVr",
        "colab_type": "text"
      },
      "source": [
        "#### Using Seaborn plot the correlation matrix of various features.\n",
        "\n",
        "*Hint: search how to use `heatmap`*"
      ]
    },
    {
      "cell_type": "code",
      "metadata": {
        "id": "01OC_dalMMVs",
        "colab_type": "code",
        "colab": {}
      },
      "source": [
        "#your code here\n"
      ],
      "execution_count": 0,
      "outputs": []
    },
    {
      "cell_type": "markdown",
      "metadata": {
        "id": "mtxUI5dtMMVv",
        "colab_type": "text"
      },
      "source": [
        "#### According to the previous plot, what are the most correlated feature? Comment."
      ]
    },
    {
      "cell_type": "code",
      "metadata": {
        "id": "-J8CS8CWMMVy",
        "colab_type": "code",
        "colab": {}
      },
      "source": [
        "#your comment here\n"
      ],
      "execution_count": 0,
      "outputs": []
    },
    {
      "cell_type": "markdown",
      "metadata": {
        "id": "g5Uh5E24MMV2",
        "colab_type": "text"
      },
      "source": [
        "#### Use the appropriate plot to display the summary statistics of the `Age` in function of the `Pclass`.\n",
        "\n",
        "*Hint: use boxplot to display summary statistics of `Age` in relation to each of the discrete values of `Pclass`*"
      ]
    },
    {
      "cell_type": "code",
      "metadata": {
        "id": "Br71H6hJMMV2",
        "colab_type": "code",
        "colab": {}
      },
      "source": [
        "#your code here\n"
      ],
      "execution_count": 0,
      "outputs": []
    },
    {
      "cell_type": "markdown",
      "metadata": {
        "id": "79n63vIIMMV6",
        "colab_type": "text"
      },
      "source": [
        "#### Use the appropriate plot to display the distributions of  `Age` in relation to  `Gender`.\n",
        "\n",
        "*Hint: use Facetgrid to display the distribution of `Age` for each categorical value of `Gender`*"
      ]
    },
    {
      "cell_type": "code",
      "metadata": {
        "id": "tk10mlU1MMV7",
        "colab_type": "code",
        "colab": {}
      },
      "source": [
        "#your code here\n"
      ],
      "execution_count": 0,
      "outputs": []
    }
  ]
}