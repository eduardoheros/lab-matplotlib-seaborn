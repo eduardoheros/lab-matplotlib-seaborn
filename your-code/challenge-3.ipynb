{
  "nbformat": 4,
  "nbformat_minor": 0,
  "metadata": {
    "kernelspec": {
      "display_name": "Python 3",
      "language": "python",
      "name": "python3"
    },
    "language_info": {
      "codemirror_mode": {
        "name": "ipython",
        "version": 3
      },
      "file_extension": ".py",
      "mimetype": "text/x-python",
      "name": "python",
      "nbconvert_exporter": "python",
      "pygments_lexer": "ipython3",
      "version": "3.7.0"
    },
    "colab": {
      "name": "challenge-3.ipynb",
      "provenance": []
    }
  },
  "cells": [
    {
      "cell_type": "markdown",
      "metadata": {
        "id": "hZP8c76wMMUP",
        "colab_type": "text"
      },
      "source": [
        "# Challenge 3"
      ]
    },
    {
      "cell_type": "code",
      "metadata": {
        "id": "lJMRTzlRMMUR",
        "colab_type": "code",
        "colab": {}
      },
      "source": [
        "# import libraries here\n",
        "import pandas as pd\n",
        "'''\n",
        "import numpy as np\n",
        "import matplotlib.pyplot as plt\n",
        "import seaborn as sns\n",
        "%matplotlib inline\n",
        "'''"
      ],
      "execution_count": 0,
      "outputs": []
    },
    {
      "cell_type": "markdown",
      "metadata": {
        "id": "oS282Py6MMUY",
        "colab_type": "text"
      },
      "source": [
        "#### Import the titanic file. Name your dataset `titanic`."
      ]
    },
    {
      "cell_type": "code",
      "metadata": {
        "id": "iOaIwK12MMUZ",
        "colab_type": "code",
        "colab": {}
      },
      "source": [
        "titanic = pd.read_csv('./titanic.csv',low_memory=False)\n",
        "titanic.head()"
      ],
      "execution_count": 0,
      "outputs": []
    },
    {
      "cell_type": "markdown",
      "metadata": {
        "id": "-M9c8i95MMUf",
        "colab_type": "text"
      },
      "source": [
        "#### Explore the titanic dataset using Pandas dtypes"
      ]
    },
    {
      "cell_type": "code",
      "metadata": {
        "id": "AOur3I8aMMUf",
        "colab_type": "code",
        "colab": {}
      },
      "source": [
        "#your code here\n"
      ],
      "execution_count": 0,
      "outputs": []
    },
    {
      "cell_type": "markdown",
      "metadata": {
        "id": "3gCLkJLcMMUm",
        "colab_type": "text"
      },
      "source": [
        "#### What are your numerical variables? What are your categorical variables?\n",
        "\n",
        "*Hint: Use Pandas `select_dtypes`*"
      ]
    },
    {
      "cell_type": "code",
      "metadata": {
        "id": "pnMjD0YSMMUm",
        "colab_type": "code",
        "colab": {}
      },
      "source": [
        "# your code here- numerical variable\n"
      ],
      "execution_count": 0,
      "outputs": []
    },
    {
      "cell_type": "code",
      "metadata": {
        "id": "sPJLXOCAMMUq",
        "colab_type": "code",
        "colab": {}
      },
      "source": [
        "#your code here- categorical variable\n"
      ],
      "execution_count": 0,
      "outputs": []
    },
    {
      "cell_type": "markdown",
      "metadata": {
        "id": "O8qJe6yPMMUu",
        "colab_type": "text"
      },
      "source": [
        "#### Set the plot style to `classic` and the figure size to `(12,6)`\n",
        "\n",
        "*Hint: To set the style you can use `matplotlib.pyplot` functions or seaborn*"
      ]
    },
    {
      "cell_type": "code",
      "metadata": {
        "id": "pWoqT30BMMUu",
        "colab_type": "code",
        "colab": {}
      },
      "source": [
        "# your code here\n"
      ],
      "execution_count": 0,
      "outputs": []
    },
    {
      "cell_type": "markdown",
      "metadata": {
        "id": "8KJYNqjbMMU2",
        "colab_type": "text"
      },
      "source": [
        "#### Use the appropriate visulalization to show the distribution of the column `Age`"
      ]
    },
    {
      "cell_type": "code",
      "metadata": {
        "id": "b_QLyeeUMMU2",
        "colab_type": "code",
        "colab": {}
      },
      "source": [
        "# your code here\n"
      ],
      "execution_count": 0,
      "outputs": []
    },
    {
      "cell_type": "markdown",
      "metadata": {
        "id": "rJEdCJ_SMMU6",
        "colab_type": "text"
      },
      "source": [
        "#### Use subplots to plot the distribution of the `Age` variable with bins equal to `10`, `20` and `50`."
      ]
    },
    {
      "cell_type": "code",
      "metadata": {
        "id": "0rQs3oXnMMU7",
        "colab_type": "code",
        "colab": {}
      },
      "source": [
        "# your code here\n"
      ],
      "execution_count": 0,
      "outputs": []
    },
    {
      "cell_type": "markdown",
      "metadata": {
        "id": "Wd-11qbMMMU_",
        "colab_type": "text"
      },
      "source": [
        "#### Whether the bin size affects your plot? Why?"
      ]
    },
    {
      "cell_type": "code",
      "metadata": {
        "id": "pCUzJ220MMU_",
        "colab_type": "code",
        "colab": {}
      },
      "source": [
        "#your comment here\n"
      ],
      "execution_count": 0,
      "outputs": []
    },
    {
      "cell_type": "markdown",
      "metadata": {
        "id": "wF2Smq6tMMVC",
        "colab_type": "text"
      },
      "source": [
        "#### Use seaborn to show the distribution of the column `Age`"
      ]
    },
    {
      "cell_type": "code",
      "metadata": {
        "id": "zQ3bJL_KMMVD",
        "colab_type": "code",
        "colab": {}
      },
      "source": [
        "# your code here\n"
      ],
      "execution_count": 0,
      "outputs": []
    },
    {
      "cell_type": "markdown",
      "metadata": {
        "id": "CuAatHuYMMVG",
        "colab_type": "text"
      },
      "source": [
        "#### Use the appropriate plot to visualize the column `Gender`. There are 2 ways of doing it. Do it both ways.\n",
        "\n",
        "*Hint: Use matplotlib and seaborn*"
      ]
    },
    {
      "cell_type": "code",
      "metadata": {
        "id": "EAWUibqvMMVH",
        "colab_type": "code",
        "colab": {}
      },
      "source": [
        "# your code here- 1st way\n"
      ],
      "execution_count": 0,
      "outputs": []
    },
    {
      "cell_type": "code",
      "metadata": {
        "id": "KdoOS9kDMMVK",
        "colab_type": "code",
        "colab": {}
      },
      "source": [
        "# your code here- 2nd way\n"
      ],
      "execution_count": 0,
      "outputs": []
    },
    {
      "cell_type": "markdown",
      "metadata": {
        "id": "23gqYoHaMMVN",
        "colab_type": "text"
      },
      "source": [
        "#### Use the appropriate plot to visualize the column `Pclass` \n"
      ]
    },
    {
      "cell_type": "code",
      "metadata": {
        "id": "GggLMiolMMVN",
        "colab_type": "code",
        "colab": {}
      },
      "source": [
        "# your code here\n"
      ],
      "execution_count": 0,
      "outputs": []
    },
    {
      "cell_type": "markdown",
      "metadata": {
        "id": "E7SrICrdMMVP",
        "colab_type": "text"
      },
      "source": [
        "#### We would like to have in one single plot the summary statistics of the feature `Age`. Choose the appropriate plot to show below."
      ]
    },
    {
      "cell_type": "code",
      "metadata": {
        "id": "Uk3iqG3MMMVS",
        "colab_type": "code",
        "colab": {}
      },
      "source": [
        "# your code here\n"
      ],
      "execution_count": 0,
      "outputs": []
    },
    {
      "cell_type": "markdown",
      "metadata": {
        "id": "F-mMNFubMMVW",
        "colab_type": "text"
      },
      "source": [
        "#### What does the previous plot tell you about the feature `Age`? Comment."
      ]
    },
    {
      "cell_type": "code",
      "metadata": {
        "id": "B8WZFfRnMMVX",
        "colab_type": "code",
        "colab": {}
      },
      "source": [
        "# your comment here\n"
      ],
      "execution_count": 0,
      "outputs": []
    },
    {
      "cell_type": "markdown",
      "metadata": {
        "id": "qwUEaySqMMVe",
        "colab_type": "text"
      },
      "source": [
        "#### Now in addition to the summary statistics, we also want to visualize the distribution of `Age`. Choose the appropriate plot to sow below."
      ]
    },
    {
      "cell_type": "code",
      "metadata": {
        "id": "-AEekvUqMMVe",
        "colab_type": "code",
        "colab": {}
      },
      "source": [
        "#your code here\n"
      ],
      "execution_count": 0,
      "outputs": []
    },
    {
      "cell_type": "markdown",
      "metadata": {
        "id": "x7F2hTQ-MMVi",
        "colab_type": "text"
      },
      "source": [
        "#### What additional information in the previous plot provide you about the feature `Age`? Comment."
      ]
    },
    {
      "cell_type": "code",
      "metadata": {
        "id": "7w20e84nMMVi",
        "colab_type": "code",
        "colab": {}
      },
      "source": [
        "#your comment here\n"
      ],
      "execution_count": 0,
      "outputs": []
    },
    {
      "cell_type": "markdown",
      "metadata": {
        "id": "szJxNaklMMVl",
        "colab_type": "text"
      },
      "source": [
        "#### We suspect that there is a linear relationship between `Fare` and `Age`. Use the appropriate plot to show the relationship between these 2 features. There are 2 ways, please do it both ways.\n",
        "\n",
        "*Hint: One of the ways involves using Seaborn*"
      ]
    },
    {
      "cell_type": "code",
      "metadata": {
        "id": "yZFE4znNMMVm",
        "colab_type": "code",
        "colab": {}
      },
      "source": [
        "#your code-1st way\n"
      ],
      "execution_count": 0,
      "outputs": []
    },
    {
      "cell_type": "code",
      "metadata": {
        "id": "OCC2fRYiMMVo",
        "colab_type": "code",
        "colab": {}
      },
      "source": [
        "# your code-2nd way\n"
      ],
      "execution_count": 0,
      "outputs": []
    },
    {
      "cell_type": "markdown",
      "metadata": {
        "id": "tXbREXriMMVr",
        "colab_type": "text"
      },
      "source": [
        "#### Using Seaborn plot the correlation matrix of various features.\n",
        "\n",
        "*Hint: search how to use `heatmap`*"
      ]
    },
    {
      "cell_type": "code",
      "metadata": {
        "id": "01OC_dalMMVs",
        "colab_type": "code",
        "colab": {}
      },
      "source": [
        "#your code here\n"
      ],
      "execution_count": 0,
      "outputs": []
    },
    {
      "cell_type": "markdown",
      "metadata": {
        "id": "mtxUI5dtMMVv",
        "colab_type": "text"
      },
      "source": [
        "#### According to the previous plot, what are the most correlated feature? Comment."
      ]
    },
    {
      "cell_type": "code",
      "metadata": {
        "id": "-J8CS8CWMMVy",
        "colab_type": "code",
        "colab": {}
      },
      "source": [
        "#your comment here\n"
      ],
      "execution_count": 0,
      "outputs": []
    },
    {
      "cell_type": "markdown",
      "metadata": {
        "id": "g5Uh5E24MMV2",
        "colab_type": "text"
      },
      "source": [
        "#### Use the appropriate plot to display the summary statistics of the `Age` in function of the `Pclass`.\n",
        "\n",
        "*Hint: use boxplot to display summary statistics of `Age` in relation to each of the discrete values of `Pclass`*"
      ]
    },
    {
      "cell_type": "code",
      "metadata": {
        "id": "Br71H6hJMMV2",
        "colab_type": "code",
        "colab": {}
      },
      "source": [
        "#your code here\n"
      ],
      "execution_count": 0,
      "outputs": []
    },
    {
      "cell_type": "markdown",
      "metadata": {
        "id": "79n63vIIMMV6",
        "colab_type": "text"
      },
      "source": [
        "#### Use the appropriate plot to display the distributions of  `Age` in relation to  `Gender`.\n",
        "\n",
        "*Hint: use Facetgrid to display the distribution of `Age` for each categorical value of `Gender`*"
      ]
    },
    {
      "cell_type": "code",
      "metadata": {
        "id": "tk10mlU1MMV7",
        "colab_type": "code",
        "colab": {}
      },
      "source": [
        "#your code here\n"
      ],
      "execution_count": 0,
      "outputs": []
    }
  ]
}